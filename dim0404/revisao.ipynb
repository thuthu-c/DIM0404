{
 "cells": [
  {
   "cell_type": "code",
   "execution_count": 2,
   "metadata": {},
   "outputs": [],
   "source": [
    "import sympy as sy\n",
    "import numpy as np"
   ]
  },
  {
   "cell_type": "code",
   "execution_count": 3,
   "metadata": {},
   "outputs": [],
   "source": [
    "x = sy.Symbol(\"x\")"
   ]
  },
  {
   "cell_type": "code",
   "execution_count": 4,
   "metadata": {},
   "outputs": [],
   "source": [
    "f1 = x + 1 #trecho 1\n",
    "f2 = -x**2 + 2 #trecho 2\n",
    "f3 = x #trecho 3 "
   ]
  },
  {
   "cell_type": "code",
   "execution_count": 10,
   "metadata": {},
   "outputs": [
    {
     "name": "stdout",
     "output_type": "stream",
     "text": [
      "O valor do limite é L = 0\n",
      "O valor do limite é L = 2\n",
      "O valor do limite é L = 4\n"
     ]
    }
   ],
   "source": [
    "L1 = sy.limit(f1,x,-1)\n",
    "print(f'O valor do limite é L = {L1}')\n",
    "\n",
    "L2 = sy.limit(f2, x, 0)\n",
    "print(f'O valor do limite é L = {L2}')\n",
    "\n",
    "L3 = sy.limit(f3,x, 4)\n",
    "print(f'O valor do limite é L = {L3}')"
   ]
  },
  {
   "cell_type": "code",
   "execution_count": 11,
   "metadata": {},
   "outputs": [
    {
     "name": "stdout",
     "output_type": "stream",
     "text": [
      "O valor do limite quando f(x) tende a x = -1 pela esquerda é 0\n",
      "O valor do limite quando f(x) tende a x = -1 pela direita é 1\n",
      "O valor do limite quando f(x) tende a x = 0 pela esquerda é 2\n",
      "O valor do limite quando f(x) tende a x = 0 pela direita é 0\n"
     ]
    }
   ],
   "source": [
    "L4 = sy.limit(f1,x,-1)\n",
    "print(f'O valor do limite quando f(x) tende a x = -1 pela esquerda é {L4}')\n",
    "\n",
    "L5 = sy.limit(f2, x, -1)\n",
    "print(f'O valor do limite quando f(x) tende a x = -1 pela direita é {L5}')\n",
    "\n",
    "L6 = sy.limit(f2,x, 0)\n",
    "print(f'O valor do limite quando f(x) tende a x = 0 pela esquerda é {L6}')\n",
    "\n",
    "L7 = sy.limit(f3,x, 0)\n",
    "print(f'O valor do limite quando f(x) tende a x = 0 pela direita é {L7}')"
   ]
  },
  {
   "cell_type": "code",
   "execution_count": 12,
   "metadata": {},
   "outputs": [
    {
     "name": "stdout",
     "output_type": "stream",
     "text": [
      "A derivada de f(x) é 1/(2*sqrt(x + 4))\n"
     ]
    }
   ],
   "source": [
    "#função a ser derivada\n",
    "f = sy.sqrt(x+4)\n",
    "dfx_dx = sy.diff(f,x)\n",
    "print(f'A derivada de f(x) é {dfx_dx}')"
   ]
  },
  {
   "cell_type": "code",
   "execution_count": 13,
   "metadata": {},
   "outputs": [
    {
     "name": "stdout",
     "output_type": "stream",
     "text": [
      "A derivada de f(x) é -3/x**2\n"
     ]
    }
   ],
   "source": [
    "g = (3/x)\n",
    "dfx_dxx = sy.diff(g,x)\n",
    "print(f'A derivada de f(x) é {dfx_dxx}')\n"
   ]
  },
  {
   "cell_type": "code",
   "execution_count": 14,
   "metadata": {},
   "outputs": [
    {
     "name": "stdout",
     "output_type": "stream",
     "text": [
      "A derivada de f(x) é 9*x**2 + 8/x**3\n"
     ]
    }
   ],
   "source": [
    "h = 3*x**3 - 4/x**2\n",
    "dfx_dxxx = sy.diff(h,x)\n",
    "print(f'A derivada de f(x) é {dfx_dxxx}')"
   ]
  },
  {
   "cell_type": "code",
   "execution_count": 15,
   "metadata": {},
   "outputs": [
    {
     "name": "stdout",
     "output_type": "stream",
     "text": [
      "A derivada de f(x) é -6*x*(4 - x**2)**2\n"
     ]
    }
   ],
   "source": [
    "i = (4-x**2)**3\n",
    "dfx_dxxxx = sy.diff(i,x)\n",
    "print(f'A derivada de f(x) é {dfx_dxxxx}')"
   ]
  },
  {
   "cell_type": "code",
   "execution_count": 16,
   "metadata": {},
   "outputs": [
    {
     "name": "stdout",
     "output_type": "stream",
     "text": [
      "A derivada de f(x) é exp(sin(x))*cos(x)\n"
     ]
    }
   ],
   "source": [
    "j = sy.exp(sy.sin(x))\n",
    "dfx_dxxxxx = sy.diff(j,x)\n",
    "print(f'A derivada de f(x) é {dfx_dxxxxx}')"
   ]
  },
  {
   "cell_type": "code",
   "execution_count": 17,
   "metadata": {},
   "outputs": [
    {
     "name": "stdout",
     "output_type": "stream",
     "text": [
      "A derivada de f(x) é 1/(x + 2)\n"
     ]
    }
   ],
   "source": [
    "k = sy.log(x + 2)\n",
    "dfx_dxxxxxx = sy.diff(k,x)\n",
    "print(f'A derivada de f(x) é {dfx_dxxxxxx}')"
   ]
  },
  {
   "cell_type": "code",
   "execution_count": 18,
   "metadata": {},
   "outputs": [
    {
     "name": "stdout",
     "output_type": "stream",
     "text": [
      "A derivada de f(x) é -x**2*sin(x) + 2*x*cos(x) + cos(x)\n"
     ]
    }
   ],
   "source": [
    "l = x**2 * sy.cos(x) + sy.sin(x)\n",
    "dfx_dxxxxxxx = sy.diff(l,x)\n",
    "print(f'A derivada de f(x) é {dfx_dxxxxxxx}')"
   ]
  },
  {
   "cell_type": "code",
   "execution_count": 19,
   "metadata": {},
   "outputs": [
    {
     "name": "stdout",
     "output_type": "stream",
     "text": [
      "A derivada de f(x) é 3*x/sqrt(3*x**2 + 2)\n"
     ]
    }
   ],
   "source": [
    "m = sy.sqrt(3*x**2 + 2)\n",
    "dfx_dxxxxxxxx = sy.diff(m,x)\n",
    "print(f'A derivada de f(x) é {dfx_dxxxxxxxx}')"
   ]
  },
  {
   "cell_type": "code",
   "execution_count": 20,
   "metadata": {},
   "outputs": [
    {
     "name": "stdout",
     "output_type": "stream",
     "text": [
      "O valor da integral é F = 2\n"
     ]
    }
   ],
   "source": [
    "um = x \n",
    "F = sy.integrate(um, (x, 0,2))\n",
    "print(f'O valor da integral é F = {F}')"
   ]
  },
  {
   "cell_type": "code",
   "execution_count": 21,
   "metadata": {},
   "outputs": [
    {
     "name": "stdout",
     "output_type": "stream",
     "text": [
      "O valor da integral é F = -4/3\n"
     ]
    }
   ],
   "source": [
    "dois = (x**3 - 2*x**2 + 4*x)\n",
    "F = sy.integrate(dois, (x, -1,1))\n",
    "print(f'O valor da integral é F = {F}')"
   ]
  },
  {
   "cell_type": "code",
   "execution_count": 22,
   "metadata": {},
   "outputs": [
    {
     "name": "stdout",
     "output_type": "stream",
     "text": [
      "O valor da integral é F = -2**pi/pi + 4**pi/pi\n"
     ]
    }
   ],
   "source": [
    "tres = x**(sy.pi - 1)\n",
    "F = sy.integrate(tres, (x, 2,4))\n",
    "print(f'O valor da integral é F = {F}')"
   ]
  },
  {
   "cell_type": "code",
   "execution_count": 23,
   "metadata": {},
   "outputs": [
    {
     "name": "stdout",
     "output_type": "stream",
     "text": [
      "O valor da integral é F = -exp(-1) + exp(-2) + log(2)\n"
     ]
    }
   ],
   "source": [
    "quatro = (1/x - sy.exp(-x))\n",
    "F = sy.integrate(quatro, (x, 1,2))\n",
    "print(f'O valor da integral é F = {F}')"
   ]
  }
 ],
 "metadata": {
  "kernelspec": {
   "display_name": "dim0404",
   "language": "python",
   "name": "python3"
  },
  "language_info": {
   "codemirror_mode": {
    "name": "ipython",
    "version": 3
   },
   "file_extension": ".py",
   "mimetype": "text/x-python",
   "name": "python",
   "nbconvert_exporter": "python",
   "pygments_lexer": "ipython3",
   "version": "3.9.18"
  }
 },
 "nbformat": 4,
 "nbformat_minor": 2
}
