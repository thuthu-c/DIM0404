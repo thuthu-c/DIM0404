{
 "cells": [
  {
   "cell_type": "code",
   "execution_count": 13,
   "metadata": {},
   "outputs": [],
   "source": [
    "import numpy as np\n",
    "import matplotlib.pyplot as plt\n",
    "from sympy import *"
   ]
  },
  {
   "cell_type": "code",
   "execution_count": 4,
   "metadata": {},
   "outputs": [],
   "source": [
    "def maxAndmin(l):\n",
    "\n",
    "    # determina p máximo e o mínimo de uma lista de números\n",
    "    max = l[0]\n",
    "    min = l[0]\n",
    "\n",
    "    for i in l : \n",
    "        if i < min:\n",
    "            min = i\n",
    "        \n",
    "        if i > max:\n",
    "            max = i\n",
    "    \n",
    "    return min, max\n"
   ]
  },
  {
   "cell_type": "code",
   "execution_count": 27,
   "metadata": {},
   "outputs": [],
   "source": [
    "def min_euc_dis(X, Y):\n",
    "    # determina a menor distância euclidiana entre um conjunto de pontos\n",
    "\n",
    "    N = len(X)\n",
    "    assert N == len(Y), f'O tamanho de X deve ser o mesmo que Y'\n",
    "    min_norm = +10000000.0\n",
    "\n",
    "    for i in range(N):\n",
    "        for j in range(N):\n",
    "            if i != j:\n",
    "                norm = np.sqrt((X[i] - X[j])**2 + (Y[i] - Y[j])**2)\n",
    "                if norm < min_norm:\n",
    "                    min_norm = norm\n",
    "    return min_norm "
   ]
  },
  {
   "cell_type": "code",
   "execution_count": 16,
   "metadata": {},
   "outputs": [],
   "source": [
    "def sort(L):\n",
    "    # ordena a lista\n",
    "\n",
    "    N = len(L)\n",
    "\n",
    "    for i in range(N):\n",
    "        for j in range(N):\n",
    "            if L[i] < L[j]:\n",
    "                aux = L[i]\n",
    "                L[i] = L[j]\n",
    "                L[j] = aux\n",
    "    \n",
    "    return L"
   ]
  },
  {
   "cell_type": "code",
   "execution_count": 26,
   "metadata": {},
   "outputs": [
    {
     "data": {
      "text/plain": [
       "array([22, 46, 53, 54, 55, 67, 68, 79, 86, 99])"
      ]
     },
     "execution_count": 26,
     "metadata": {},
     "output_type": "execute_result"
    }
   ],
   "source": [
    "lista = np.random.randint(100, size=10)\n",
    "maxAndmin(lista)\n",
    "sort(lista)"
   ]
  },
  {
   "cell_type": "code",
   "execution_count": 28,
   "metadata": {},
   "outputs": [
    {
     "data": {
      "text/plain": [
       "7.0710678118654755"
      ]
     },
     "execution_count": 28,
     "metadata": {},
     "output_type": "execute_result"
    }
   ],
   "source": [
    "X = np.random.randint(100, size=10)\n",
    "Y = np.random.randint(100, size=10)\n",
    "\n",
    "min_euc_dis(X, Y)"
   ]
  }
 ],
 "metadata": {
  "kernelspec": {
   "display_name": "dim0404",
   "language": "python",
   "name": "python3"
  },
  "language_info": {
   "codemirror_mode": {
    "name": "ipython",
    "version": 3
   },
   "file_extension": ".py",
   "mimetype": "text/x-python",
   "name": "python",
   "nbconvert_exporter": "python",
   "pygments_lexer": "ipython3",
   "version": "3.9.18"
  }
 },
 "nbformat": 4,
 "nbformat_minor": 2
}
