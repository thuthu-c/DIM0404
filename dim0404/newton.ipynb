{
 "cells": [
  {
   "cell_type": "code",
   "execution_count": 28,
   "metadata": {},
   "outputs": [],
   "source": [
    "import sympy as sy\n",
    "import numpy as np"
   ]
  },
  {
   "cell_type": "code",
   "execution_count": 31,
   "metadata": {},
   "outputs": [],
   "source": [
    "# def newton(a, niter, min_error):\n",
    "#     x = []\n",
    "#     x.append(1)\n",
    "    \n",
    "#     for k in range(niter-1):\n",
    "#         aa = (x[k] + a / x[k]) * 0,5\n",
    "#         x.append(aa)\n",
    "#         bb= (x[k+1] - x[k])/x[k+1]\n",
    "#         e = np.abs(bb)\n",
    "\n",
    "#         if e < min_error:\n",
    "#             return x[k+1]\n",
    "    \n",
    "#     return x[k+1]\n",
    "\n"
   ]
  },
  {
   "cell_type": "code",
   "execution_count": 34,
   "metadata": {},
   "outputs": [],
   "source": [
    "def newton_dois(a, niter, min_error):\n",
    "    x = 1\n",
    "\n",
    "    for k in range(niter):\n",
    "        x_next = (x + a/x) * 0,5\n",
    "        e = np.abs((x_next - x) / x_next)\n",
    "\n",
    "\n",
    "        if e < min_error:\n",
    "            return x_next\n",
    "        \n",
    "        x = x_next\n",
    "    \n",
    "    return x"
   ]
  },
  {
   "cell_type": "code",
   "execution_count": 35,
   "metadata": {},
   "outputs": [
    {
     "ename": "TypeError",
     "evalue": "unsupported operand type(s) for -: 'tuple' and 'int'",
     "output_type": "error",
     "traceback": [
      "\u001b[0;31m---------------------------------------------------------------------------\u001b[0m",
      "\u001b[0;31mTypeError\u001b[0m                                 Traceback (most recent call last)",
      "Cell \u001b[0;32mIn[35], line 1\u001b[0m\n\u001b[0;32m----> 1\u001b[0m y \u001b[38;5;241m=\u001b[39m \u001b[43mnewton_dois\u001b[49m\u001b[43m(\u001b[49m\u001b[38;5;241;43m144\u001b[39;49m\u001b[43m,\u001b[49m\u001b[43m \u001b[49m\u001b[38;5;241;43m10000\u001b[39;49m\u001b[43m,\u001b[49m\u001b[43m \u001b[49m\u001b[38;5;241;43m0.001\u001b[39;49m\u001b[43m)\u001b[49m\n",
      "Cell \u001b[0;32mIn[34], line 6\u001b[0m, in \u001b[0;36mnewton_dois\u001b[0;34m(a, niter, min_error)\u001b[0m\n\u001b[1;32m      4\u001b[0m \u001b[38;5;28;01mfor\u001b[39;00m k \u001b[38;5;129;01min\u001b[39;00m \u001b[38;5;28mrange\u001b[39m(niter):\n\u001b[1;32m      5\u001b[0m     x_next \u001b[38;5;241m=\u001b[39m (x \u001b[38;5;241m+\u001b[39m a\u001b[38;5;241m/\u001b[39mx) \u001b[38;5;241m*\u001b[39m \u001b[38;5;241m0\u001b[39m,\u001b[38;5;241m5\u001b[39m\n\u001b[0;32m----> 6\u001b[0m     e \u001b[38;5;241m=\u001b[39m np\u001b[38;5;241m.\u001b[39mabs((\u001b[43mx_next\u001b[49m\u001b[43m \u001b[49m\u001b[38;5;241;43m-\u001b[39;49m\u001b[43m \u001b[49m\u001b[43mx\u001b[49m) \u001b[38;5;241m/\u001b[39m x_next)\n\u001b[1;32m      9\u001b[0m     \u001b[38;5;28;01mif\u001b[39;00m e \u001b[38;5;241m<\u001b[39m min_error:\n\u001b[1;32m     10\u001b[0m         \u001b[38;5;28;01mreturn\u001b[39;00m x_next\n",
      "\u001b[0;31mTypeError\u001b[0m: unsupported operand type(s) for -: 'tuple' and 'int'"
     ]
    }
   ],
   "source": [
    "y = newton_dois(144, 10000, 0.001)"
   ]
  }
 ],
 "metadata": {
  "kernelspec": {
   "display_name": "dim0404",
   "language": "python",
   "name": "python3"
  },
  "language_info": {
   "codemirror_mode": {
    "name": "ipython",
    "version": 3
   },
   "file_extension": ".py",
   "mimetype": "text/x-python",
   "name": "python",
   "nbconvert_exporter": "python",
   "pygments_lexer": "ipython3",
   "version": "3.9.18"
  }
 },
 "nbformat": 4,
 "nbformat_minor": 2
}
